{
  "nbformat": 4,
  "nbformat_minor": 0,
  "metadata": {
    "colab": {
      "name": "Search Console Analytics - API.ipynb",
      "provenance": [],
      "collapsed_sections": [],
      "authorship_tag": "ABX9TyNGmyQC7f3GYtfTfe5PliPD"
    },
    "kernelspec": {
      "name": "python3",
      "display_name": "Python 3"
    },
    "language_info": {
      "name": "python"
    }
  },
  "cells": [
    {
      "cell_type": "code",
      "metadata": {
        "id": "gxAwRoys2u6v"
      },
      "source": [
        "import httplib2\n",
        "\n",
        "from apiclient import errors\n",
        "from apiclient.discovery import build\n",
        "\n",
        "from oauth2client.client import OAuth2WebServerFlow"
      ],
      "execution_count": 5,
      "outputs": []
    },
    {
      "cell_type": "code",
      "metadata": {
        "id": "4NclZDid3CeP"
      },
      "source": [
        "def print_table(response, title):\n",
        "  \"\"\"Prints out a response table.\n",
        "  Each row contains key(s), clicks, impressions, CTR, and average position.\n",
        "  Args:\n",
        "    response: The server response to be printed as a table.\n",
        "    title: The title of the table.\n",
        "  \"\"\"\n",
        "  print('\\n --' + title + ':')\n",
        "  \n",
        "  if 'rows' not in response:\n",
        "    print('Empty response')\n",
        "    return\n",
        "\n",
        "  rows = response['rows']\n",
        "  row_format = '{:<20}' + '{:>20}' * 4\n",
        "  print(row_format.format('Keys', 'Clicks', 'Impressions', 'CTR', 'Position'))\n",
        "  for row in rows:\n",
        "    keys = ''\n",
        "    # Keys are returned only if one or more dimensions are requested.\n",
        "    if 'keys' in row:\n",
        "      keys = u','.join(row['keys']).encode('utf-8').decode()\n",
        "    print(row_format.format(\n",
        "        keys, row['clicks'], row['impressions'], row['ctr'], row['position']))"
      ],
      "execution_count": 2,
      "outputs": []
    },
    {
      "cell_type": "code",
      "metadata": {
        "id": "EggkYyW83HXH"
      },
      "source": [
        "def execute_request(service, property_uri, request):\n",
        "  \"\"\"Executes a searchAnalytics.query request.\n",
        "  Args:\n",
        "    service: The searchconsole service to use when executing the query.\n",
        "    property_uri: The site or app URI to request data for.\n",
        "    request: The request to be executed.\n",
        "  Returns:\n",
        "    An array of response rows.\n",
        "  \"\"\"\n",
        "  return service.searchanalytics().query(\n",
        "      siteUrl=property_uri, body=request).execute()"
      ],
      "execution_count": 6,
      "outputs": []
    },
    {
      "cell_type": "code",
      "metadata": {
        "id": "sIE3n6x83QvE"
      },
      "source": [
        "# Copy your credentials from the console\n",
        "CLIENT_ID = 'YOUR_CLIENT_ID'\n",
        "CLIENT_SECRET = 'YOUR_CLIENT_SECRET'\n",
        "\n",
        "# Check https://developers.google.com/webmaster-tools/search-console-api-original/v3/ for all available scopes\n",
        "OAUTH_SCOPE = 'https://www.googleapis.com/auth/webmasters.readonly'\n",
        "\n",
        "# Redirect URI for installed apps\n",
        "REDIRECT_URI = 'urn:ietf:wg:oauth:2.0:oob'\n",
        "\n",
        "# Run through the OAuth flow and retrieve credentials\n",
        "flow = OAuth2WebServerFlow(CLIENT_ID, CLIENT_SECRET, OAUTH_SCOPE, REDIRECT_URI)\n",
        "authorize_url = flow.step1_get_authorize_url()\n",
        "print('Go to the following link in your browser: ' + authorize_url)\n",
        "code = input('Enter verification code: ').strip()\n",
        "credentials = flow.step2_exchange(code)\n",
        "\n",
        "# Create an httplib2.Http object and authorize it with our credentials\n",
        "http = httplib2.Http()\n",
        "http = credentials.authorize(http)\n",
        "\n",
        "webmasters_service = build('searchconsole', 'v1', http=http)\n",
        "\n",
        "# Retrieve list of properties in account\n",
        "site_list = webmasters_service.sites().list().execute()\n",
        "\n",
        "# Filter for verified websites\n",
        "verified_sites_urls = [s['siteUrl'] for s in site_list['siteEntry']\n",
        "                       if s['permissionLevel'] != 'siteUnverifiedUser'\n",
        "                          and s['siteUrl'][:4] == 'http']\n",
        "\n",
        "# Print the URLs of all websites you are verified for.\n",
        "for site_url in verified_sites_urls:\n",
        "  print(site_url)\n",
        "  # Retrieve list of sitemaps submitted\n",
        "  sitemaps = webmasters_service.sitemaps().list(siteUrl=site_url).execute()\n",
        "  if 'sitemap' in sitemaps:\n",
        "    sitemap_urls = [s['path'] for s in sitemaps['sitemap']]\n",
        "    print(sitemap_urls)"
      ],
      "execution_count": null,
      "outputs": []
    },
    {
      "cell_type": "code",
      "metadata": {
        "id": "sF7WmNeB3X5t"
      },
      "source": [
        "request = {\n",
        "      'startDate': '2021-07-01',\n",
        "      'endDate': '2021-07-30',\n",
        "      'dimensions': ['date']\n",
        "  }\n",
        "response = execute_request(webmasters_service, 'YOUR_URL', request)\n",
        "print_table(response, 'Available dates')\n"
      ],
      "execution_count": null,
      "outputs": []
    }
  ]
}